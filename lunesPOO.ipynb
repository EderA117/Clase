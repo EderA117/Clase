{
  "nbformat": 4,
  "nbformat_minor": 0,
  "metadata": {
    "colab": {
      "provenance": [],
      "authorship_tag": "ABX9TyPZIHOTDjAEWrYhV5Dmi8TX",
      "include_colab_link": true
    },
    "kernelspec": {
      "name": "python3",
      "display_name": "Python 3"
    },
    "language_info": {
      "name": "python"
    }
  },
  "cells": [
    {
      "cell_type": "markdown",
      "metadata": {
        "id": "view-in-github",
        "colab_type": "text"
      },
      "source": [
        "<a href=\"https://colab.research.google.com/github/EderA117/Clase/blob/main/lunesPOO.ipynb\" target=\"_parent\"><img src=\"https://colab.research.google.com/assets/colab-badge.svg\" alt=\"Open In Colab\"/></a>"
      ]
    },
    {
      "cell_type": "code",
      "execution_count": 4,
      "metadata": {
        "colab": {
          "base_uri": "https://localhost:8080/",
          "height": 53
        },
        "id": "lSBTPAjc4Bn_",
        "outputId": "e89aee94-1c34-4bd8-e155-8cb28ef7ecc0"
      },
      "outputs": [
        {
          "output_type": "stream",
          "name": "stdout",
          "text": [
            "Hola Mundo\n"
          ]
        },
        {
          "output_type": "execute_result",
          "data": {
            "text/plain": [
              "'\\nsikllasjdjdn\\nbjiwfunrihuf\\njisfbweiufr\\n'"
            ],
            "application/vnd.google.colaboratory.intrinsic+json": {
              "type": "string"
            }
          },
          "metadata": {},
          "execution_count": 4
        }
      ],
      "source": [
        "1# Esto es un comentario\n",
        "print(\"Hola Mundo\")  # Esto imprime \"Hola Mundo\"\n",
        "\n",
        "\"\"\"\n",
        "sikllasjdjdn\n",
        "bjiwfunrihuf\n",
        "jisfbweiufr\n",
        "\"\"\""
      ]
    },
    {
      "cell_type": "code",
      "source": [
        "print(\"Hola\", \"Mundo\")\n",
        " \n",
        "print(\"Hola\" + \"Mundo\")\n",
        " \n",
        "print(\"Hola\", \"Mundo\", sep=\"-\")  # Imprime: Hola-Mundo\n",
        " \n",
        "print(\"Hola\", end=\"\")\n",
        "print(\"Mundo\")  # Imprime: HolaMundo"
      ],
      "metadata": {
        "colab": {
          "base_uri": "https://localhost:8080/"
        },
        "id": "aAQka4Pw7FC3",
        "outputId": "4ee10fe1-0f99-44ec-9418-f7ae4c7fb668"
      },
      "execution_count": 5,
      "outputs": [
        {
          "output_type": "stream",
          "name": "stdout",
          "text": [
            "Hola Mundo\n",
            "HolaMundo\n",
            "Hola-Mundo\n",
            "HolaMundo\n"
          ]
        }
      ]
    },
    {
      "cell_type": "code",
      "source": [
        "nombre = \"José\"\n",
        "carrera = \"ICO, la mejor\"\n",
        "print(\"Mi nombre es {1} y estudio {1} en la FES Aragón\".format(nombre, carrera))\n",
        "print(f\"Mi nombre es {nombre*2} y estudio {carrera} en la FES Aragon\")"
      ],
      "metadata": {
        "colab": {
          "base_uri": "https://localhost:8080/"
        },
        "id": "rM0M2lA67vd2",
        "outputId": "7b6af89f-bd60-488a-eeb7-cef8ba38a96a"
      },
      "execution_count": 10,
      "outputs": [
        {
          "output_type": "stream",
          "name": "stdout",
          "text": [
            "Mi nombre es ICO, la mejor y estudio ICO, la mejor en la FES Aragón\n",
            "Mi nombre es JoséJosé y estudio ICO, la mejor en la FES Aragon\n"
          ]
        }
      ]
    },
    {
      "cell_type": "code",
      "source": [
        "# Operadores aritméticos\n",
        "suma = 5 + 3    # 8\n",
        "resta = 5 - 3   # 2\n",
        "producto = 5 * 3  # 15\n",
        "division = 5 / 3  # 1.66667\n",
        "division2 = 5 // 3 # 1\n",
        "modulo = 5 % 3   # 2\n",
        "potencia = 5 ** 3  # 125"
      ],
      "metadata": {
        "id": "muLE7QpT_GVd"
      },
      "execution_count": 11,
      "outputs": []
    },
    {
      "cell_type": "code",
      "source": [],
      "metadata": {
        "id": "eiNNpxB8-LXQ"
      },
      "execution_count": null,
      "outputs": []
    },
    {
      "cell_type": "code",
      "source": [
        "modulo"
      ],
      "metadata": {
        "colab": {
          "base_uri": "https://localhost:8080/"
        },
        "id": "q3uyI17L_QbL",
        "outputId": "e0d64196-2f6d-4452-b16c-830e9fdaaff1"
      },
      "execution_count": 16,
      "outputs": [
        {
          "output_type": "execute_result",
          "data": {
            "text/plain": [
              "2"
            ]
          },
          "metadata": {},
          "execution_count": 16
        }
      ]
    },
    {
      "cell_type": "code",
      "source": [
        "# Operadores de comparación\n",
        "igual = 5 == 3  # False\n",
        "diferente = 5 != 3  # True\n",
        "mayor_que = 5 > 3  # True\n",
        "menor_que = 5 < 3  # False\n",
        "mayor_o_igual_que = 5 >= 3  # True\n",
        "menor_o_igual_que = 5 <= 3  # False"
      ],
      "metadata": {
        "id": "O2p-MICe_tAt"
      },
      "execution_count": 17,
      "outputs": []
    },
    {
      "cell_type": "code",
      "source": [
        "menor_o_igual_que"
      ],
      "metadata": {
        "colab": {
          "base_uri": "https://localhost:8080/"
        },
        "id": "PLXlTrUp_ulk",
        "outputId": "844d78ee-2f66-4dcd-cd8a-9d0f8e68d5d2"
      },
      "execution_count": 19,
      "outputs": [
        {
          "output_type": "execute_result",
          "data": {
            "text/plain": [
              "False"
            ]
          },
          "metadata": {},
          "execution_count": 19
        }
      ]
    },
    {
      "cell_type": "code",
      "source": [
        "# Operadores lógicos\n",
        "y = True and False  # False\n",
        "o = True or False  # True\n",
        "no = not True  # False"
      ],
      "metadata": {
        "id": "z2Ns1LZ-_2Q7"
      },
      "execution_count": 20,
      "outputs": []
    },
    {
      "cell_type": "code",
      "source": [
        "y"
      ],
      "metadata": {
        "colab": {
          "base_uri": "https://localhost:8080/"
        },
        "id": "qC-OH-eyAEcR",
        "outputId": "6c759e4a-a3ef-4ef2-b0e2-78ebb56289cf"
      },
      "execution_count": 21,
      "outputs": [
        {
          "output_type": "execute_result",
          "data": {
            "text/plain": [
              "False"
            ]
          },
          "metadata": {},
          "execution_count": 21
        }
      ]
    },
    {
      "cell_type": "code",
      "source": [
        "saludo = \"Hola Mundo\"\n",
        "cita = 'Los alumnos\\n de ICO\\t\\t \\'dicen\\': \"Hola Mundo\"'\n",
        "parrafo = \"\"\"Esto es un párrafo\n",
        "que abarca varias\n",
        "líneas\"\"\""
      ],
      "metadata": {
        "id": "G4mG6SctA6nP"
      },
      "execution_count": 30,
      "outputs": []
    },
    {
      "cell_type": "code",
      "source": [
        "print(cita)"
      ],
      "metadata": {
        "colab": {
          "base_uri": "https://localhost:8080/"
        },
        "id": "ML714uH2A8I_",
        "outputId": "ea200a5d-7c14-4c0b-ec53-21775c67f1a7"
      },
      "execution_count": 31,
      "outputs": [
        {
          "output_type": "stream",
          "name": "stdout",
          "text": [
            "Los alumnos\n",
            " de ICO\t\t 'dicen': \"Hola Mundo\"\n"
          ]
        }
      ]
    },
    {
      "cell_type": "code",
      "source": [
        "def fn_uno():\n",
        "    print(\"Hola Elliot\")\n",
        "\n",
        "a, b, c = 10, \"Hola\", fn_uno\n",
        "print(a)\n",
        "print(b)\n",
        "print(c)\n",
        "c.__call__()"
      ],
      "metadata": {
        "colab": {
          "base_uri": "https://localhost:8080/"
        },
        "id": "PwHVhzoKBwx9",
        "outputId": "4226789d-bb18-441d-92ff-a22205fe0aec"
      },
      "execution_count": 36,
      "outputs": [
        {
          "output_type": "stream",
          "name": "stdout",
          "text": [
            "10\n",
            "Hola\n",
            "<function fn_uno at 0x7fced7296170>\n",
            "Hola Elliot\n"
          ]
        }
      ]
    },
    {
      "cell_type": "code",
      "source": [
        "# entrada por teclado\n",
        "nombre = input(\"Por favor, introduce tu nombre: \")\n",
        "print(f\"Hola {nombre}!\")"
      ],
      "metadata": {
        "colab": {
          "base_uri": "https://localhost:8080/"
        },
        "id": "EGKZfW4jDIab",
        "outputId": "b6fd630d-dcdd-44e3-9dc8-05ca0a535852"
      },
      "execution_count": 37,
      "outputs": [
        {
          "output_type": "stream",
          "name": "stdout",
          "text": [
            "Por favor, introduce tu nombre: Eder\n",
            "Hola Eder!\n"
          ]
        }
      ]
    },
    {
      "cell_type": "code",
      "source": [
        "numero = int(20)\n",
        "print(numero)\n",
        "edad = int(input(\"Introduce tu edad:\"))\n",
        "print(f\"{nombre} tiene {edad} años\")"
      ],
      "metadata": {
        "colab": {
          "base_uri": "https://localhost:8080/"
        },
        "id": "mjexeApfDcIX",
        "outputId": "412bf822-c934-47a4-c84c-ee22f2e86d4a"
      },
      "execution_count": 40,
      "outputs": [
        {
          "output_type": "stream",
          "name": "stdout",
          "text": [
            "20\n",
            "Introduce tu edad:19\n",
            "Eder tiene 19 años\n"
          ]
        }
      ]
    },
    {
      "cell_type": "code",
      "source": [
        "mensaje = \"Hola Mundo\"  # String\n",
        "edad = 20               # Integer\n",
        "pi = 3.14159            # Float\n",
        "es_mayor = True         # Boolean\n",
        "imaginario = 3 + 4j     # Imaginario"
      ],
      "metadata": {
        "id": "8vE5OC72EAI4"
      },
      "execution_count": 41,
      "outputs": []
    },
    {
      "cell_type": "code",
      "source": [
        "pi*2.0"
      ],
      "metadata": {
        "colab": {
          "base_uri": "https://localhost:8080/"
        },
        "id": "7XHzfXzSEURF",
        "outputId": "47c14255-0381-4d7f-8206-cad578fbdd43"
      },
      "execution_count": 45,
      "outputs": [
        {
          "output_type": "execute_result",
          "data": {
            "text/plain": [
              "6.28318"
            ]
          },
          "metadata": {},
          "execution_count": 45
        }
      ]
    },
    {
      "cell_type": "code",
      "source": [
        "#.    0.    1.    2\n",
        "#     -3.   -2.   -1\n",
        "frutas = ['limon', 'aguacate', 'fresa']\n",
        "print(frutas[2])\n",
        "print(frutas[-1])"
      ],
      "metadata": {
        "colab": {
          "base_uri": "https://localhost:8080/"
        },
        "id": "6rEB5Op_EyXP",
        "outputId": "4462a12b-5229-4b2b-e2af-ae3a4f07cbc2"
      },
      "execution_count": 48,
      "outputs": [
        {
          "output_type": "stream",
          "name": "stdout",
          "text": [
            "fresa\n",
            "fresa\n"
          ]
        }
      ]
    },
    {
      "cell_type": "code",
      "source": [
        "cosas = ['limon', 10, 3.1416, True, [1,2,3,4], 'Hola']\n",
        "print(cosas[4])"
      ],
      "metadata": {
        "colab": {
          "base_uri": "https://localhost:8080/"
        },
        "id": "EpqUzNWUFih9",
        "outputId": "b1aae788-85f1-4c6f-edad-939c4441d502"
      },
      "execution_count": 51,
      "outputs": [
        {
          "output_type": "stream",
          "name": "stdout",
          "text": [
            "[1, 2, 3, 4]\n"
          ]
        }
      ]
    },
    {
      "cell_type": "markdown",
      "source": [
        "#Slicing en Pyhton\n",
        "\n",
        "[inicio : <stop : step]\n",
        "\n",
        "es la posibilida de obtener rebanadas a partir de un tipode datos lista o tupla, en general de un iterable"
      ],
      "metadata": {
        "id": "M-PJh52kGAUv"
      }
    },
    {
      "cell_type": "code",
      "source": [
        "ejemplo = [1,2,3,4,5,6, 'a','b','c','d','e']\n",
        "print(ejemplo)"
      ],
      "metadata": {
        "colab": {
          "base_uri": "https://localhost:8080/"
        },
        "id": "1bIvwHG0G5IF",
        "outputId": "f5586451-d266-40a0-dee5-5aef6be6d9b2"
      },
      "execution_count": 52,
      "outputs": [
        {
          "output_type": "stream",
          "name": "stdout",
          "text": [
            "[1, 2, 3, 4, 5, 6, 'a', 'b', 'c', 'd', 'e']\n"
          ]
        }
      ]
    },
    {
      "cell_type": "code",
      "source": [
        "rebanada = ejemplo[6:9:1]\n",
        "print(rebanada)"
      ],
      "metadata": {
        "colab": {
          "base_uri": "https://localhost:8080/"
        },
        "id": "CrYY6AwHFDBs",
        "outputId": "944fe697-b006-4e7c-8c88-03de0441a13a"
      },
      "execution_count": 54,
      "outputs": [
        {
          "output_type": "stream",
          "name": "stdout",
          "text": [
            "['a', 'b', 'c']\n"
          ]
        }
      ]
    },
    {
      "cell_type": "code",
      "source": [
        "frutas_dos =('aguacate','limon','naranja')\n",
        "print(frutas)\n",
        "print(frutas_dos)\n",
        "\n",
        "frutas[1] = 'Pina'\n",
        "#frutas_dos[1] = 'pina'\n",
        "\n",
        "print(frutas[1])\n",
        "print(frutas_dos[1])\n",
        "\n",
        "print(frutas_dos[1:2:1])\n",
        "print(frutas_dos[-1])"
      ],
      "metadata": {
        "colab": {
          "base_uri": "https://localhost:8080/"
        },
        "id": "Di-Jx4M2IpP4",
        "outputId": "5b89e674-7cc2-40db-d518-610093d47d2a"
      },
      "execution_count": 62,
      "outputs": [
        {
          "output_type": "stream",
          "name": "stdout",
          "text": [
            "['limon', 'Pina', 'fresa']\n",
            "('aguacate', 'limon', 'naranja')\n",
            "Pina\n",
            "limon\n",
            "('limon',)\n",
            "naranja\n"
          ]
        }
      ]
    },
    {
      "cell_type": "code",
      "source": [
        "alumno = {'numero_cuenta' : 23432 , 'carrera' : 'ICO' ,\n",
        "          'direccion' : {'calle' : 'rancho seco', 'numero' : 23}\n",
        "          }\n",
        "print(alumno['direccion']['calle'][3:6:1])"
      ],
      "metadata": {
        "colab": {
          "base_uri": "https://localhost:8080/"
        },
        "id": "QUkkN6qNK4Bj",
        "outputId": "9d4c3c0c-7c7f-4661-b007-81fb0d97b048"
      },
      "execution_count": 68,
      "outputs": [
        {
          "output_type": "stream",
          "name": "stdout",
          "text": [
            "cho\n"
          ]
        }
      ]
    },
    {
      "cell_type": "code",
      "source": [
        "!ls -a"
      ],
      "metadata": {
        "colab": {
          "base_uri": "https://localhost:8080/"
        },
        "id": "FhF_jSUx6aCX",
        "outputId": "6bf7e9a4-8bd7-4735-ec4f-e21efe7bacf3"
      },
      "execution_count": 3,
      "outputs": [
        {
          "output_type": "stream",
          "name": "stdout",
          "text": [
            ".  ..  .config\tsample_data\n"
          ]
        }
      ]
    }
  ]
}